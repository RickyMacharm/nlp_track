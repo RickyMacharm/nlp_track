{
 "cells": [
  {
   "cell_type": "markdown",
   "metadata": {},
   "source": [
    "# POS tagging examples using NLTK and spaCy"
   ]
  },
  {
   "cell_type": "markdown",
   "metadata": {},
   "source": [
    "**Using NLTK library**"
   ]
  },
  {
   "cell_type": "code",
   "execution_count": 1,
   "metadata": {},
   "outputs": [
    {
     "name": "stderr",
     "output_type": "stream",
     "text": [
      "[nltk_data] Downloading package averaged_perceptron_tagger to\n",
      "[nltk_data]     C:\\Users\\JenniferKwentoh\\AppData\\Roaming\\nltk_data...\n",
      "[nltk_data]   Package averaged_perceptron_tagger is already up-to-\n",
      "[nltk_data]       date!\n",
      "[nltk_data] Downloading package tagsets to\n",
      "[nltk_data]     C:\\Users\\JenniferKwentoh\\AppData\\Roaming\\nltk_data...\n",
      "[nltk_data]   Package tagsets is already up-to-date!\n"
     ]
    },
    {
     "data": {
      "text/plain": [
       "True"
      ]
     },
     "execution_count": 1,
     "metadata": {},
     "output_type": "execute_result"
    }
   ],
   "source": [
    "import nltk\n",
    "from nltk import word_tokenize, pos_tag\n",
    "import nltk.help\n",
    "nltk.download('averaged_perceptron_tagger')\n",
    "nltk.download('tagsets')"
   ]
  },
  {
   "cell_type": "markdown",
   "metadata": {},
   "source": [
    "Tokenization"
   ]
  },
  {
   "cell_type": "code",
   "execution_count": 2,
   "metadata": {},
   "outputs": [
    {
     "data": {
      "text/plain": [
       "['Abuja', 'is', 'a', 'beautiful', 'city']"
      ]
     },
     "execution_count": 2,
     "metadata": {},
     "output_type": "execute_result"
    }
   ],
   "source": [
    "text = 'Abuja is a beautiful city'\n",
    "tokens = word_tokenize(text)\n",
    "tokens"
   ]
  },
  {
   "cell_type": "code",
   "execution_count": 3,
   "metadata": {},
   "outputs": [
    {
     "data": {
      "text/plain": [
       "[('Abuja', 'NNP'),\n",
       " ('is', 'VBZ'),\n",
       " ('a', 'DT'),\n",
       " ('beautiful', 'JJ'),\n",
       " ('city', 'NN')]"
      ]
     },
     "execution_count": 3,
     "metadata": {},
     "output_type": "execute_result"
    }
   ],
   "source": [
    "pos_tag(tokens)"
   ]
  },
  {
   "cell_type": "code",
   "execution_count": 4,
   "metadata": {},
   "outputs": [
    {
     "data": {
      "text/plain": [
       "[('Washing', 'VBG'),\n",
       " ('your', 'PRP$'),\n",
       " ('hands', 'NNS'),\n",
       " ('is', 'VBZ'),\n",
       " ('easy', 'JJ'),\n",
       " (',', ','),\n",
       " ('and', 'CC'),\n",
       " ('it', 'PRP'),\n",
       " ('’', 'VBD'),\n",
       " ('s', 'JJ'),\n",
       " ('one', 'CD'),\n",
       " ('of', 'IN'),\n",
       " ('the', 'DT'),\n",
       " ('most', 'RBS'),\n",
       " ('effective', 'JJ'),\n",
       " ('ways', 'NNS'),\n",
       " ('to', 'TO'),\n",
       " ('prevent', 'VB'),\n",
       " ('the', 'DT'),\n",
       " ('spread', 'NN'),\n",
       " ('of', 'IN'),\n",
       " ('germs', 'NNS'),\n",
       " ('.', '.'),\n",
       " ('Clean', 'JJ'),\n",
       " ('hands', 'NNS'),\n",
       " ('can', 'MD'),\n",
       " ('stop', 'VB'),\n",
       " ('germs', 'NNS'),\n",
       " ('from', 'IN'),\n",
       " ('spreading', 'VBG'),\n",
       " ('from', 'IN'),\n",
       " ('one', 'CD'),\n",
       " ('person', 'NN'),\n",
       " ('to', 'TO'),\n",
       " ('another', 'DT'),\n",
       " ('and', 'CC'),\n",
       " ('throughout', 'IN'),\n",
       " ('an', 'DT'),\n",
       " ('entire', 'JJ'),\n",
       " ('community—from', 'NN'),\n",
       " ('your', 'PRP$'),\n",
       " ('home', 'NN'),\n",
       " ('and', 'CC'),\n",
       " ('workplace', 'NN'),\n",
       " ('to', 'TO'),\n",
       " ('childcare', 'VB'),\n",
       " ('facilities', 'NNS'),\n",
       " ('and', 'CC'),\n",
       " ('hospitals', 'NNS'),\n",
       " ('.', '.'),\n",
       " ('Follow', 'IN'),\n",
       " ('these', 'DT'),\n",
       " ('five', 'CD'),\n",
       " ('steps', 'NNS'),\n",
       " ('every', 'DT'),\n",
       " ('time', 'NN'),\n",
       " ('.', '.'),\n",
       " ('Wet', 'VB'),\n",
       " ('your', 'PRP$'),\n",
       " ('hands', 'NNS'),\n",
       " ('with', 'IN'),\n",
       " ('clean', 'JJ'),\n",
       " (',', ','),\n",
       " ('running', 'JJ'),\n",
       " ('water', 'NN'),\n",
       " ('(', '('),\n",
       " ('warm', 'JJ'),\n",
       " ('or', 'CC'),\n",
       " ('cold', 'JJ'),\n",
       " (')', ')'),\n",
       " (',', ','),\n",
       " ('turn', 'VBP'),\n",
       " ('off', 'RP'),\n",
       " ('the', 'DT'),\n",
       " ('tap', 'NN'),\n",
       " (',', ','),\n",
       " ('and', 'CC'),\n",
       " ('apply', 'VB'),\n",
       " ('soap', 'NN'),\n",
       " ('.', '.'),\n",
       " ('Lather', 'CC'),\n",
       " ('your', 'PRP$'),\n",
       " ('hands', 'NNS'),\n",
       " ('by', 'IN'),\n",
       " ('rubbing', 'VBG'),\n",
       " ('them', 'PRP'),\n",
       " ('together', 'RB'),\n",
       " ('with', 'IN'),\n",
       " ('the', 'DT'),\n",
       " ('soap', 'NN'),\n",
       " ('.', '.'),\n",
       " ('Lather', 'CC'),\n",
       " ('the', 'DT'),\n",
       " ('backs', 'NNS'),\n",
       " ('of', 'IN'),\n",
       " ('your', 'PRP$'),\n",
       " ('hands', 'NNS'),\n",
       " (',', ','),\n",
       " ('between', 'IN'),\n",
       " ('your', 'PRP$'),\n",
       " ('fingers', 'NNS'),\n",
       " (',', ','),\n",
       " ('and', 'CC'),\n",
       " ('under', 'IN'),\n",
       " ('your', 'PRP$'),\n",
       " ('nails', 'NNS'),\n",
       " ('.', '.'),\n",
       " ('Scrub', 'VB'),\n",
       " ('your', 'PRP$'),\n",
       " ('hands', 'NNS'),\n",
       " ('for', 'IN'),\n",
       " ('at', 'IN'),\n",
       " ('least', 'JJS'),\n",
       " ('20', 'CD'),\n",
       " ('seconds', 'NNS'),\n",
       " ('.', '.'),\n",
       " ('Need', 'VB'),\n",
       " ('a', 'DT'),\n",
       " ('timer', 'NN'),\n",
       " ('?', '.'),\n",
       " ('Hum', 'NNP'),\n",
       " ('the', 'DT'),\n",
       " ('“', 'NNP'),\n",
       " ('Happy', 'NNP'),\n",
       " ('Birthday', 'NNP'),\n",
       " ('”', 'NNP'),\n",
       " ('song', 'NN'),\n",
       " ('from', 'IN'),\n",
       " ('beginning', 'VBG'),\n",
       " ('to', 'TO'),\n",
       " ('end', 'VB'),\n",
       " ('twice', 'RB'),\n",
       " ('.', '.'),\n",
       " ('Rinse', 'VB'),\n",
       " ('your', 'PRP$'),\n",
       " ('hands', 'NNS'),\n",
       " ('well', 'RB'),\n",
       " ('under', 'IN'),\n",
       " ('clean', 'JJ'),\n",
       " (',', ','),\n",
       " ('running', 'JJ'),\n",
       " ('water', 'NN'),\n",
       " ('.', '.'),\n",
       " ('Dry', 'VB'),\n",
       " ('your', 'PRP$'),\n",
       " ('hands', 'NNS'),\n",
       " ('using', 'VBG'),\n",
       " ('a', 'DT'),\n",
       " ('clean', 'JJ'),\n",
       " ('towel', 'NN'),\n",
       " ('or', 'CC'),\n",
       " ('air', 'NN'),\n",
       " ('dry', 'JJ'),\n",
       " ('them', 'PRP'),\n",
       " ('.', '.')]"
      ]
     },
     "execution_count": 4,
     "metadata": {},
     "output_type": "execute_result"
    }
   ],
   "source": [
    "text = '''Washing your hands is easy, and it’s one of the most effective ways to prevent the spread of germs. Clean hands can stop germs from spreading from one person to another and throughout an entire community—from your home and workplace to childcare facilities and hospitals.\n",
    "Follow these five steps every time.\n",
    "Wet your hands with clean, running water (warm or cold), turn off the tap, and apply soap.\n",
    "Lather your hands by rubbing them together with the soap. Lather the backs of your hands, between your fingers, and under your nails.\n",
    "Scrub your hands for at least 20 seconds. Need a timer? Hum the “Happy Birthday” song from beginning to end twice.\n",
    "Rinse your hands well under clean, running water.\n",
    "Dry your hands using a clean towel or air dry them.'''\n",
    "\n",
    "tokens = word_tokenize(text)\n",
    "pos_tag(tokens)"
   ]
  },
  {
   "cell_type": "markdown",
   "metadata": {},
   "source": [
    "NLTK documentation for tags"
   ]
  },
  {
   "cell_type": "code",
   "execution_count": 5,
   "metadata": {
    "scrolled": true
   },
   "outputs": [
    {
     "name": "stdout",
     "output_type": "stream",
     "text": [
      "VB: verb, base form\n",
      "    ask assemble assess assign assume atone attention avoid bake balkanize\n",
      "    bank begin behold believe bend benefit bevel beware bless boil bomb\n",
      "    boost brace break bring broil brush build ...\n"
     ]
    }
   ],
   "source": [
    "nltk.help.upenn_tagset('VB')"
   ]
  },
  {
   "cell_type": "markdown",
   "metadata": {},
   "source": [
    "**Using spaCy**"
   ]
  },
  {
   "cell_type": "code",
   "execution_count": null,
   "metadata": {},
   "outputs": [],
   "source": []
  },
  {
   "cell_type": "code",
   "execution_count": null,
   "metadata": {},
   "outputs": [],
   "source": []
  }
 ],
 "metadata": {
  "kernelspec": {
   "display_name": "Python 3",
   "language": "python",
   "name": "python3"
  },
  "language_info": {
   "codemirror_mode": {
    "name": "ipython",
    "version": 3
   },
   "file_extension": ".py",
   "mimetype": "text/x-python",
   "name": "python",
   "nbconvert_exporter": "python",
   "pygments_lexer": "ipython3",
   "version": "3.7.3"
  }
 },
 "nbformat": 4,
 "nbformat_minor": 2
}
